{
 "cells": [
  {
   "cell_type": "code",
   "execution_count": 8,
   "metadata": {},
   "outputs": [],
   "source": [
    "import pickle\n",
    "import joblib\n",
    "import pandas as pd"
   ]
  },
  {
   "cell_type": "code",
   "execution_count": 9,
   "metadata": {},
   "outputs": [],
   "source": [
    "fname = 'models\\\\model_and_encoder.joblib'\n",
    "classifier, encoder = joblib.load(fname) #load the model and encoder\n",
    "\n",
    "fname_db = 'data\\\\police_stops.pickle'\n",
    "police_stops = pd.read_pickle(fname_db)"
   ]
  },
  {
   "cell_type": "code",
   "execution_count": 22,
   "metadata": {},
   "outputs": [
    {
     "name": "stdout",
     "output_type": "stream",
     "text": [
      "{'feature_vector': [[4, 0, 0, 1, 2, 2, 1, 1, 2]], 'scenario': [['46 - 55', 'Blackjack', 'F', 'Asian', 'Black', 'Not Reported', 'ALARM CALL (NOT POLICE ALARM)', True, '46 - 55']]}\n"
     ]
    },
    {
     "data": {
      "text/plain": [
       "dict_keys(['feature_vector', 'scenario'])"
      ]
     },
     "execution_count": 22,
     "metadata": {},
     "output_type": "execute_result"
    }
   ],
   "source": [
    "import json\n",
    "import numpy as np\n",
    "\n",
    "response = \"{\\\"feature_vector\\\": [[4, 0, 0, 1, 2, 2, 1, 1, 2]], \\\"scenario\\\": [[\\\"46 - 55\\\", \\\"Blackjack\\\", \\\"F\\\", \\\"Asian\\\", \\\"Black\\\", \\\"Not Reported\\\", \\\"ALARM CALL (NOT POLICE ALARM)\\\", true, \\\"46 - 55\\\"]]}\"\n",
    "response_multi = \"{\\\"feature_vector\\\": [[2, 1, 1, 3, 3, 1, 4, 0, 1], [2, 0, 0, 7, 0, 0, 2, 0, 0]], \\\"scenario\\\": [[\\\"26 - 35\\\", \\\"Brass Knuckles\\\", \\\"M\\\", \\\"Hispanic\\\", \\\"Hispanic\\\", \\\"Male\\\", \\\"TELEPHONE OTHER, NOT 911\\\", false, \\\"36 - 45\\\"], [\\\"26 - 35\\\", \\\"Blackjack\\\", \\\"F\\\", \\\"White\\\", \\\"American Indian/Alaskan Native\\\", \\\"Female\\\", \\\"Not Reported\\\", false, \\\"26 - 35\\\"]]}\"\n",
    "response_dict = json.loads(response)\n",
    "response_dict_multi = json.loads(response_multi)\n",
    "print(response_dict)\n",
    "\n",
    "response_dict.keys()"
   ]
  },
  {
   "cell_type": "code",
   "execution_count": 23,
   "metadata": {},
   "outputs": [
    {
     "data": {
      "text/plain": [
       "array([[2, 1, 1, 3, 3, 1, 4, 0, 1],\n",
       "       [2, 0, 0, 7, 0, 0, 2, 0, 0]])"
      ]
     },
     "execution_count": 23,
     "metadata": {},
     "output_type": "execute_result"
    }
   ],
   "source": [
    "np.array(response_dict_multi['feature_vector'])"
   ]
  }
 ],
 "metadata": {
  "kernelspec": {
   "display_name": "Python 3.9.10 64-bit",
   "language": "python",
   "name": "python3"
  },
  "language_info": {
   "codemirror_mode": {
    "name": "ipython",
    "version": 3
   },
   "file_extension": ".py",
   "mimetype": "text/x-python",
   "name": "python",
   "nbconvert_exporter": "python",
   "pygments_lexer": "ipython3",
   "version": "3.9.10"
  },
  "orig_nbformat": 4,
  "vscode": {
   "interpreter": {
    "hash": "6d567de74db8d0c12a332ed002f590f9b562856e2675462b90f2b5fcf9ee7a14"
   }
  }
 },
 "nbformat": 4,
 "nbformat_minor": 2
}
